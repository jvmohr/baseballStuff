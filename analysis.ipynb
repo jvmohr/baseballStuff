{
 "cells": [
  {
   "cell_type": "code",
   "execution_count": 1,
   "metadata": {},
   "outputs": [],
   "source": [
    "import pandas as pd\n",
    "import os, datetime\n",
    "import matplotlib.pyplot as plt"
   ]
  },
  {
   "cell_type": "code",
   "execution_count": 2,
   "metadata": {},
   "outputs": [
    {
     "data": {
      "text/html": [
       "<div>\n",
       "<style scoped>\n",
       "    .dataframe tbody tr th:only-of-type {\n",
       "        vertical-align: middle;\n",
       "    }\n",
       "\n",
       "    .dataframe tbody tr th {\n",
       "        vertical-align: top;\n",
       "    }\n",
       "\n",
       "    .dataframe thead th {\n",
       "        text-align: right;\n",
       "    }\n",
       "</style>\n",
       "<table border=\"1\" class=\"dataframe\">\n",
       "  <thead>\n",
       "    <tr style=\"text-align: right;\">\n",
       "      <th></th>\n",
       "      <th>Num</th>\n",
       "      <th>Pitch</th>\n",
       "      <th>Type</th>\n",
       "      <th>MPH</th>\n",
       "      <th>play-hitzone</th>\n",
       "      <th>play-bases</th>\n",
       "      <th>play-field</th>\n",
       "      <th>Pitcher</th>\n",
       "      <th>Pitching Team</th>\n",
       "      <th>Batting Team</th>\n",
       "      <th>Inning</th>\n",
       "      <th>Event Id</th>\n",
       "      <th>Game</th>\n",
       "    </tr>\n",
       "  </thead>\n",
       "  <tbody>\n",
       "    <tr>\n",
       "      <th>3752693</th>\n",
       "      <td>4</td>\n",
       "      <td>Double</td>\n",
       "      <td>Sinker</td>\n",
       "      <td>95</td>\n",
       "      <td>top: 9.5px; right: 17.22px;</td>\n",
       "      <td>2.0</td>\n",
       "      <td>top: 11.38px; right: 28.12px;</td>\n",
       "      <td>Jansen</td>\n",
       "      <td>LAD</td>\n",
       "      <td>PIT</td>\n",
       "      <td>Top 9th</td>\n",
       "      <td>97</td>\n",
       "      <td>401228841</td>\n",
       "    </tr>\n",
       "    <tr>\n",
       "      <th>3752694</th>\n",
       "      <td>1</td>\n",
       "      <td>Strike Looking</td>\n",
       "      <td>Cutter</td>\n",
       "      <td>93</td>\n",
       "      <td>top: 15.14px; right: 19.67px;</td>\n",
       "      <td>2.0</td>\n",
       "      <td>NaN</td>\n",
       "      <td>Jansen</td>\n",
       "      <td>LAD</td>\n",
       "      <td>PIT</td>\n",
       "      <td>Top 9th</td>\n",
       "      <td>98</td>\n",
       "      <td>401228841</td>\n",
       "    </tr>\n",
       "    <tr>\n",
       "      <th>3752695</th>\n",
       "      <td>2</td>\n",
       "      <td>Ground Out</td>\n",
       "      <td>Cutter</td>\n",
       "      <td>93</td>\n",
       "      <td>top: 12.75px; right: 27.2px;</td>\n",
       "      <td>3.0</td>\n",
       "      <td>top: 16.95px; right: 16.52px;</td>\n",
       "      <td>Jansen</td>\n",
       "      <td>LAD</td>\n",
       "      <td>PIT</td>\n",
       "      <td>Top 9th</td>\n",
       "      <td>98</td>\n",
       "      <td>401228841</td>\n",
       "    </tr>\n",
       "    <tr>\n",
       "      <th>3752696</th>\n",
       "      <td>1</td>\n",
       "      <td>Strike Looking</td>\n",
       "      <td>Cutter</td>\n",
       "      <td>93</td>\n",
       "      <td>top: 14.27px; right: 19.06px;</td>\n",
       "      <td>3.0</td>\n",
       "      <td>NaN</td>\n",
       "      <td>Jansen</td>\n",
       "      <td>LAD</td>\n",
       "      <td>PIT</td>\n",
       "      <td>Top 9th</td>\n",
       "      <td>99</td>\n",
       "      <td>401228841</td>\n",
       "    </tr>\n",
       "    <tr>\n",
       "      <th>3752697</th>\n",
       "      <td>2</td>\n",
       "      <td>Ground Out</td>\n",
       "      <td>Sinker</td>\n",
       "      <td>95</td>\n",
       "      <td>top: 14.71px; right: 20.89px;</td>\n",
       "      <td>3.0</td>\n",
       "      <td>top: 15.33px; right: 16.4px;</td>\n",
       "      <td>Jansen</td>\n",
       "      <td>LAD</td>\n",
       "      <td>PIT</td>\n",
       "      <td>Top 9th</td>\n",
       "      <td>99</td>\n",
       "      <td>401228841</td>\n",
       "    </tr>\n",
       "  </tbody>\n",
       "</table>\n",
       "</div>"
      ],
      "text/plain": [
       "         Num           Pitch    Type MPH                   play-hitzone  \\\n",
       "3752693    4          Double  Sinker  95    top: 9.5px; right: 17.22px;   \n",
       "3752694    1  Strike Looking  Cutter  93  top: 15.14px; right: 19.67px;   \n",
       "3752695    2      Ground Out  Cutter  93   top: 12.75px; right: 27.2px;   \n",
       "3752696    1  Strike Looking  Cutter  93  top: 14.27px; right: 19.06px;   \n",
       "3752697    2      Ground Out  Sinker  95  top: 14.71px; right: 20.89px;   \n",
       "\n",
       "         play-bases                     play-field Pitcher Pitching Team  \\\n",
       "3752693         2.0  top: 11.38px; right: 28.12px;  Jansen           LAD   \n",
       "3752694         2.0                            NaN  Jansen           LAD   \n",
       "3752695         3.0  top: 16.95px; right: 16.52px;  Jansen           LAD   \n",
       "3752696         3.0                            NaN  Jansen           LAD   \n",
       "3752697         3.0   top: 15.33px; right: 16.4px;  Jansen           LAD   \n",
       "\n",
       "        Batting Team   Inning  Event Id       Game  \n",
       "3752693          PIT  Top 9th        97  401228841  \n",
       "3752694          PIT  Top 9th        98  401228841  \n",
       "3752695          PIT  Top 9th        98  401228841  \n",
       "3752696          PIT  Top 9th        99  401228841  \n",
       "3752697          PIT  Top 9th        99  401228841  "
      ]
     },
     "execution_count": 2,
     "metadata": {},
     "output_type": "execute_result"
    }
   ],
   "source": [
    "file = 'pitches.csv'\n",
    "p_df = pd.read_csv(os.path.join('data', 'total', file))\n",
    "p_df.tail()"
   ]
  },
  {
   "cell_type": "code",
   "execution_count": 4,
   "metadata": {},
   "outputs": [
    {
     "data": {
      "text/plain": [
       "Four-seam FB        797764\n",
       "Fastball            764687\n",
       "Slider              654731\n",
       "Changeup            391659\n",
       "Curve               354050\n",
       "Sinker              269474\n",
       "Cutter              189143\n",
       "Two-seam FB         149958\n",
       "--                   65638\n",
       "Splitter             53243\n",
       "Knuckle Curve        46622\n",
       "Knuckleball           8202\n",
       "Unknown               3367\n",
       "Intentional Ball      2926\n",
       "Pitch Out              400\n",
       "Eephus Pitch           328\n",
       "Slow Curve             291\n",
       "Forkball               148\n",
       "Screwball               67\n",
       "Name: Type, dtype: int64"
      ]
     },
     "execution_count": 4,
     "metadata": {},
     "output_type": "execute_result"
    }
   ],
   "source": [
    "p_df['Type'].value_counts()"
   ]
  },
  {
   "cell_type": "code",
   "execution_count": 3,
   "metadata": {},
   "outputs": [
    {
     "data": {
      "image/png": "[encoded data removed]",
      "text/plain": [
       "<Figure size 432x288 with 1 Axes>"
      ]
     },
     "metadata": {},
     "output_type": "display_data"
    }
   ],
   "source": [
    "# gets a bit messy right now...\n",
    "plt.pie(p_df['Type'].value_counts(), labels=p_df['Type'].value_counts().index.tolist(), autopct='%1.2f%%');"
   ]
  },
  {
   "cell_type": "code",
   "execution_count": 4,
   "metadata": {},
   "outputs": [],
   "source": [
    "# Notes\n",
    "# fcns for various things?\n",
    "\n",
    "# Ideas\n",
    "# least total pitches to get through each inning\n",
    "# - most pitches through each inning and still throwing a complete game/no-no\n",
    "\n",
    "# most balls/strikes in a row\n",
    "\n",
    "# most 3 strike strikeous in a game\n",
    "# avg pitches per at bat\n",
    "# fewest pitches to get a number of hits\n",
    "# - ex. hitter got a hit on each of first three hits he saw"
   ]
  },
  {
   "cell_type": "markdown",
   "metadata": {},
   "source": [
    "## prevalence of triples (or any outcome of pitches)"
   ]
  },
  {
   "cell_type": "code",
   "execution_count": 5,
   "metadata": {
    "scrolled": true
   },
   "outputs": [
    {
     "name": "stderr",
     "output_type": "stream",
     "text": [
      "C:\\Users\\Joseph\\Anaconda3\\lib\\site-packages\\IPython\\core\\interactiveshell.py:3063: DtypeWarning: Columns (3) have mixed types.Specify dtype option on import or set low_memory=False.\n",
      "  interactivity=interactivity, compiler=compiler, result=result)\n"
     ]
    }
   ],
   "source": [
    "# go through each year\n",
    "pitch_outcome_dict = {}\n",
    "for year in range(2017, 2021): \n",
    "    pitching_df = pd.read_csv(os.path.join('data', str(year), 'pitches.csv'))\n",
    "    pitch_outcome_dict[year] = pitching_df['Pitch'].value_counts()"
   ]
  },
  {
   "cell_type": "code",
   "execution_count": 6,
   "metadata": {},
   "outputs": [
    {
     "data": {
      "text/plain": [
       "[807, 852, 840, 249]"
      ]
     },
     "execution_count": 6,
     "metadata": {},
     "output_type": "execute_result"
    }
   ],
   "source": [
    "[pitch_outcome_dict[year]['Triple'] for year in range(2017, 2021)]"
   ]
  },
  {
   "cell_type": "markdown",
   "metadata": {},
   "source": [
    "## pitch types from year to year"
   ]
  },
  {
   "cell_type": "code",
   "execution_count": 7,
   "metadata": {},
   "outputs": [],
   "source": [
    "pitch_type_dict = {}\n",
    "for year in range(2017, 2021): \n",
    "    pitching_df = pd.read_csv(os.path.join('data', str(year), 'pitches.csv'))\n",
    "    pitch_type_dict[year] = pitching_df['Type'].value_counts()"
   ]
  },
  {
   "cell_type": "code",
   "execution_count": 8,
   "metadata": {},
   "outputs": [
    {
     "data": {
      "text/plain": [
       "[0, 15403, 14212, 6455]"
      ]
     },
     "execution_count": 8,
     "metadata": {},
     "output_type": "execute_result"
    }
   ],
   "source": [
    "pitch_type = 'Knuckle Curve'\n",
    "[pitch_type_dict[year][pitch_type] if pitch_type in pitch_type_dict[year].keys() else 0 for year in range(2017, 2021)]"
   ]
  },
  {
   "cell_type": "code",
   "execution_count": 9,
   "metadata": {},
   "outputs": [
    {
     "data": {
      "text/plain": [
       "Woodruff         1297\n",
       "Burnes           1009\n",
       "Houser            956\n",
       "Lindblom          790\n",
       "Anderson          752\n",
       "Peralta           571\n",
       "Suter             567\n",
       "Yardley           443\n",
       "Williams          431\n",
       "Hader             391\n",
       "Claudio           331\n",
       "Rasmussen         323\n",
       "Knebel            263\n",
       "Lauer             244\n",
       "Phelps            204\n",
       "Feyereisen        150\n",
       "Topa              146\n",
       "Grimm             110\n",
       "Perdomo            85\n",
       "Black              67\n",
       "Wahl               38\n",
       "Bickford           33\n",
       "Orlando Arcia      30\n",
       "Gyorko             11\n",
       "Name: Pitcher, dtype: int64"
      ]
     },
     "execution_count": 9,
     "metadata": {},
     "output_type": "execute_result"
    }
   ],
   "source": [
    "pitching_df[pitching_df['Pitching Team'] == 'MIL']['Pitcher'].value_counts()"
   ]
  },
  {
   "cell_type": "code",
   "execution_count": 10,
   "metadata": {},
   "outputs": [
    {
     "data": {
      "text/plain": [
       "Cutter          326\n",
       "Sinker          206\n",
       "Four-seam FB    147\n",
       "Slider          132\n",
       "Changeup        110\n",
       "Curve            88\n",
       "Name: Type, dtype: int64"
      ]
     },
     "execution_count": 10,
     "metadata": {},
     "output_type": "execute_result"
    }
   ],
   "source": [
    "pitching_df[pitching_df['Pitcher'] == 'Burnes']['Type'].value_counts()"
   ]
  },
  {
   "cell_type": "markdown",
   "metadata": {},
   "source": [
    "### To Get CSVs with subset of modified data"
   ]
  },
  {
   "cell_type": "code",
   "execution_count": 40,
   "metadata": {},
   "outputs": [],
   "source": [
    "strike_calls = ['Strike Looking', 'Strike Swinging', 'Foul Ball', \n",
    "                'Ground Out', 'Fly Out', 'Line Out', 'Pop Out', \n",
    "                'Foul Out', 'Bunted Foul', 'Sacrifice Fly', 'Sacrifice', \n",
    "                'Batters Fielders Choice (runner Out)', 'Bunt Ground Out', \n",
    "                'Bunt Pop Out', 'Strikeout Batter Safe, Passed Ball']\n",
    "\n",
    "hit_calls = ['Single', 'Double', 'Triple', 'Home Run', 'Ground Rule Double', \n",
    "             'Bunt Single', 'Bunt Double', 'Inside The Park Home Run']\n",
    "\n",
    "ball_calls = ['Ball', 'Hit By Pitch', 'Wild Pitch; Runner Reached', 'Intentional Ball']\n",
    "error_calls = ['Batter Reached On Error (batter To First)', 'Catchers Interference (batter To First/error)']\n",
    "other_calls = ['Batters Fielders Choice (all Runners Safe)', 'Batters Interference (batter Out)', \n",
    "               'Official Ruling Pending']\n",
    "\n",
    "def changeOutcome(x):\n",
    "    if x in strike_calls:\n",
    "        return 'Strike'\n",
    "    elif x in hit_calls:\n",
    "        return 'Hit'\n",
    "    elif x in ball_calls:\n",
    "        return 'Ball'\n",
    "    else:\n",
    "        return 'Other'"
   ]
  },
  {
   "cell_type": "code",
   "execution_count": 68,
   "metadata": {},
   "outputs": [],
   "source": [
    "# could loop this over team abbreviations\n",
    "# - only other thing to change would be folder the csvs are stored in (in next cell)\n",
    "\n",
    "team_abbr = 'MIL'\n",
    "\n",
    "brewers_df = pd.read_csv(os.path.join('data', '2021', 'pitches.csv'))\n",
    "brewers_df = brewers_df[brewers_df['Pitching Team'] == team_abbr]\n",
    "\n",
    "# write pitcher csvs\n",
    "for pitcher in brewers_df['Pitcher'].unique():\n",
    "    temp = brewers_df[brewers_df['Pitcher']==pitcher][['Pitch', 'Type', 'MPH', 'Game']]\n",
    "    # temp['Inning'] = temp['Inning'].apply(lambda x: x.split(' ')[1][:-2])\n",
    "    \n",
    "    # to get the pitcher's pitch count in the game\n",
    "    pitch_counts = []\n",
    "    gameid = -1\n",
    "    for i, row in temp.iterrows():\n",
    "        if gameid != row['Game']:\n",
    "            pc = 1\n",
    "            gameid = row['Game']\n",
    "        else:\n",
    "            pc += 1\n",
    "        pitch_counts.append(pc)\n",
    "    \n",
    "    temp['Count'] = pitch_counts\n",
    "    temp['Pitch'] = temp['Pitch'].apply(lambda x: changeOutcome(x))\n",
    "    temp[['Pitch', 'Type', 'MPH', 'Count']].to_csv(os.path.join('for_unity', 'brewers', pitcher+'.csv'), index=False, header=False)"
   ]
  },
  {
   "cell_type": "code",
   "execution_count": 22,
   "metadata": {},
   "outputs": [],
   "source": [
    "# write list of pitchers\n",
    "with open(os.path.join('for_unity', 'brewers', 'pitchers.txt'), 'w') as f: \n",
    "    for pitcher in brewers_df['Pitcher'].unique().tolist():\n",
    "        f.write(pitcher+'\\n')"
   ]
  },
  {
   "cell_type": "code",
   "execution_count": 28,
   "metadata": {},
   "outputs": [
    {
     "data": {
      "text/html": [
       "<div>\n",
       "<style scoped>\n",
       "    .dataframe tbody tr th:only-of-type {\n",
       "        vertical-align: middle;\n",
       "    }\n",
       "\n",
       "    .dataframe tbody tr th {\n",
       "        vertical-align: top;\n",
       "    }\n",
       "\n",
       "    .dataframe thead th {\n",
       "        text-align: right;\n",
       "    }\n",
       "</style>\n",
       "<table border=\"1\" class=\"dataframe\">\n",
       "  <thead>\n",
       "    <tr style=\"text-align: right;\">\n",
       "      <th></th>\n",
       "      <th>Pitch</th>\n",
       "      <th>Type</th>\n",
       "      <th>MPH</th>\n",
       "      <th>Inning</th>\n",
       "    </tr>\n",
       "  </thead>\n",
       "  <tbody>\n",
       "    <tr>\n",
       "      <th>9017</th>\n",
       "      <td>Strike Looking</td>\n",
       "      <td>Sinker</td>\n",
       "      <td>97</td>\n",
       "      <td>Top 1st</td>\n",
       "    </tr>\n",
       "    <tr>\n",
       "      <th>9018</th>\n",
       "      <td>Ball</td>\n",
       "      <td>Curve</td>\n",
       "      <td>81</td>\n",
       "      <td>Top 1st</td>\n",
       "    </tr>\n",
       "    <tr>\n",
       "      <th>9019</th>\n",
       "      <td>Foul Ball</td>\n",
       "      <td>Sinker</td>\n",
       "      <td>98</td>\n",
       "      <td>Top 1st</td>\n",
       "    </tr>\n",
       "    <tr>\n",
       "      <th>9020</th>\n",
       "      <td>Foul Ball</td>\n",
       "      <td>Cutter</td>\n",
       "      <td>97</td>\n",
       "      <td>Top 1st</td>\n",
       "    </tr>\n",
       "    <tr>\n",
       "      <th>9021</th>\n",
       "      <td>Ball</td>\n",
       "      <td>Cutter</td>\n",
       "      <td>97</td>\n",
       "      <td>Top 1st</td>\n",
       "    </tr>\n",
       "    <tr>\n",
       "      <th>...</th>\n",
       "      <td>...</td>\n",
       "      <td>...</td>\n",
       "      <td>...</td>\n",
       "      <td>...</td>\n",
       "    </tr>\n",
       "    <tr>\n",
       "      <th>375692</th>\n",
       "      <td>Foul Ball</td>\n",
       "      <td>Cutter</td>\n",
       "      <td>93</td>\n",
       "      <td>Bottom 6th</td>\n",
       "    </tr>\n",
       "    <tr>\n",
       "      <th>375693</th>\n",
       "      <td>Ball</td>\n",
       "      <td>Curve</td>\n",
       "      <td>78</td>\n",
       "      <td>Bottom 6th</td>\n",
       "    </tr>\n",
       "    <tr>\n",
       "      <th>375694</th>\n",
       "      <td>Double</td>\n",
       "      <td>Cutter</td>\n",
       "      <td>93</td>\n",
       "      <td>Bottom 6th</td>\n",
       "    </tr>\n",
       "    <tr>\n",
       "      <th>375695</th>\n",
       "      <td>Foul Ball</td>\n",
       "      <td>Slider</td>\n",
       "      <td>89</td>\n",
       "      <td>Bottom 6th</td>\n",
       "    </tr>\n",
       "    <tr>\n",
       "      <th>375696</th>\n",
       "      <td>Single</td>\n",
       "      <td>Curve</td>\n",
       "      <td>78</td>\n",
       "      <td>Bottom 6th</td>\n",
       "    </tr>\n",
       "  </tbody>\n",
       "</table>\n",
       "<p>1362 rows × 4 columns</p>\n",
       "</div>"
      ],
      "text/plain": [
       "                 Pitch    Type MPH      Inning\n",
       "9017    Strike Looking  Sinker  97     Top 1st\n",
       "9018              Ball   Curve  81     Top 1st\n",
       "9019         Foul Ball  Sinker  98     Top 1st\n",
       "9020         Foul Ball  Cutter  97     Top 1st\n",
       "9021              Ball  Cutter  97     Top 1st\n",
       "...                ...     ...  ..         ...\n",
       "375692       Foul Ball  Cutter  93  Bottom 6th\n",
       "375693            Ball   Curve  78  Bottom 6th\n",
       "375694          Double  Cutter  93  Bottom 6th\n",
       "375695       Foul Ball  Slider  89  Bottom 6th\n",
       "375696          Single   Curve  78  Bottom 6th\n",
       "\n",
       "[1362 rows x 4 columns]"
      ]
     },
     "execution_count": 28,
     "metadata": {},
     "output_type": "execute_result"
    }
   ],
   "source": [
    "# examples of what the data looks like after being modified\n",
    "brewers_df[brewers_df['Pitcher']=='Burnes'][['Pitch', 'Type', 'MPH', 'Inning']]"
   ]
  },
  {
   "cell_type": "code",
   "execution_count": 38,
   "metadata": {
    "scrolled": true
   },
   "outputs": [
    {
     "data": {
      "text/plain": [
       "9017      Strike\n",
       "9018        Ball\n",
       "9019      Strike\n",
       "9020      Strike\n",
       "9021        Ball\n",
       "           ...  \n",
       "375692    Strike\n",
       "375693      Ball\n",
       "375694       Hit\n",
       "375695    Strike\n",
       "375696       Hit\n",
       "Name: Pitch, Length: 1362, dtype: object"
      ]
     },
     "execution_count": 38,
     "metadata": {},
     "output_type": "execute_result"
    }
   ],
   "source": [
    "brewers_df[brewers_df['Pitcher']=='Burnes']['Pitch'].apply(lambda x: changeOutcome(x))"
   ]
  },
  {
   "cell_type": "code",
   "execution_count": null,
   "metadata": {},
   "outputs": [],
   "source": []
  }
 ],
 "metadata": {
  "kernelspec": {
   "display_name": "Python 3",
   "language": "python",
   "name": "python3"
  },
  "language_info": {
   "codemirror_mode": {
    "name": "ipython",
    "version": 3
   },
   "file_extension": ".py",
   "mimetype": "text/x-python",
   "name": "python",
   "nbconvert_exporter": "python",
   "pygments_lexer": "ipython3",
   "version": "3.7.3"
  }
 },
 "nbformat": 4,
 "nbformat_minor": 4
}
